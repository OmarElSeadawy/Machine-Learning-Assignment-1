{
 "cells": [
  {
   "cell_type": "code",
   "execution_count": 1,
   "metadata": {},
   "outputs": [],
   "source": [
    "import numpy as np\n",
    "import pylab as pl\n",
    "import NearestNeighbour as NN\n",
    "from sklearn.utils import shuffle\n",
    "import matplotlib.pyplot as plotter"
   ]
  },
  {
   "cell_type": "code",
   "execution_count": 2,
   "metadata": {},
   "outputs": [],
   "source": [
    "from pickle import *\n",
    "def unpickle(file):\n",
    "    import pickle\n",
    "    with open(file, 'rb') as fo:\n",
    "        dict = pickle.load(fo, encoding='bytes')\n",
    "        return dict"
   ]
  },
  {
   "cell_type": "code",
   "execution_count": 3,
   "metadata": {},
   "outputs": [],
   "source": [
    "def scatterplot2(scores,decision,marker1='o',marker2='^',label1='',label2='',transp=1.0):\n",
    "    scores1 = scores[decision == 1]\n",
    "    scores2 = scores[decision == 0]\n",
    "    pl.scatter(scores1[:,0], scores1[:,1],edgecolors='face', marker=marker1, label=label1, c='g',alpha=transp)\n",
    "    pl.scatter(scores2[:,0], scores2[:,1],edgecolors='face', marker=marker2, label=label2, c='r',alpha=transp)"
   ]
  },
  {
   "cell_type": "code",
   "execution_count": 4,
   "metadata": {},
   "outputs": [],
   "source": [
    "datadict = unpickle(\"../Data/cifar-100-python/train\")"
   ]
  },
  {
   "cell_type": "code",
   "execution_count": 5,
   "metadata": {},
   "outputs": [],
   "source": [
    "xTrain = datadict[b'data']\n",
    "yTrain = datadict[b'coarse_labels']\n",
    "#xTrain = xTrain.reshape(50000,3,32,32).transpose(0,2,3,1).astype(\"float\")"
   ]
  },
  {
   "cell_type": "code",
   "execution_count": 6,
   "metadata": {},
   "outputs": [],
   "source": [
    "sortindex = np.argsort(yTrain)"
   ]
  },
  {
   "cell_type": "code",
   "execution_count": 7,
   "metadata": {
    "scrolled": true
   },
   "outputs": [],
   "source": [
    "xtr=[]\n",
    "ytr=[]"
   ]
  },
  {
   "cell_type": "code",
   "execution_count": 8,
   "metadata": {},
   "outputs": [
    {
     "name": "stdout",
     "output_type": "stream",
     "text": [
      "(9999, 3072)\n"
     ]
    }
   ],
   "source": [
    "#x = 0;\n",
    "for i in range(0,49995,5):\n",
    "    xtr.append(xTrain[sortindex[i]])\n",
    "    ytr.append(yTrain[sortindex[i]])\n",
    "    #x += 1\n",
    "print(np.array(xtr).shape)"
   ]
  },
  {
   "cell_type": "code",
   "execution_count": 9,
   "metadata": {},
   "outputs": [],
   "source": [
    "xtr, ytr = shuffle(xtr,ytr,random_state=0)"
   ]
  },
  {
   "cell_type": "code",
   "execution_count": 10,
   "metadata": {},
   "outputs": [],
   "source": [
    "valxtr1,valxtr2,valxtr3 = np.split(xtr,[3333,6666])\n",
    "valytr1,valytr2,valytr3 = np.split(ytr,[3333,6666])"
   ]
  },
  {
   "cell_type": "code",
   "execution_count": 11,
   "metadata": {},
   "outputs": [],
   "source": [
    "trainxtr1 = np.split(xtr,[6666])[0]\n",
    "trainxtr2 = np.split(xtr,[3333])[1]\n",
    "trainxtr3 = xtr[:3333]\n",
    "trainxtr3 = np.concatenate([trainxtr3,xtr[6666:]])\n",
    "\n",
    "trainytr1 = np.split(ytr,[6666])[0]\n",
    "trainytr2 = np.split(ytr,[3333])[1]\n",
    "trainytr3 = ytr[:3333]\n",
    "trainytr3 = np.concatenate([trainytr3,ytr[6666:]])"
   ]
  },
  {
   "cell_type": "code",
   "execution_count": 12,
   "metadata": {},
   "outputs": [
    {
     "name": "stdout",
     "output_type": "stream",
     "text": [
      " k =  1\n",
      "accuracy cross1  0.12061206120612061\n",
      "accuracy cross2  0.12451245124512451\n",
      "accuracy cross3 0.12901290129012902\n",
      " k =  2\n",
      "accuracy cross1  0.11191119111911191\n",
      "accuracy cross2  0.1113111311131113\n",
      "accuracy cross3 0.1266126612661266\n",
      " k =  3\n",
      "accuracy cross1  0.11701170117011701\n",
      "accuracy cross2  0.11371137113711371\n",
      "accuracy cross3 0.12811281128112811\n",
      " k =  4\n",
      "accuracy cross1  0.11791179117911792\n",
      "accuracy cross2  0.1149114911491149\n",
      "accuracy cross3 0.1344134413441344\n",
      " k =  5\n",
      "accuracy cross1  0.11821182118211822\n",
      "accuracy cross2  0.11971197119711971\n",
      "accuracy cross3 0.1335133513351335\n",
      " k =  6\n",
      "accuracy cross1  0.11701170117011701\n",
      "accuracy cross2  0.12091209120912091\n",
      "accuracy cross3 0.1251125112511251\n",
      " k =  7\n",
      "accuracy cross1  0.11641164116411641\n",
      "accuracy cross2  0.111011101110111\n",
      "accuracy cross3 0.1275127512751275\n",
      " k =  8\n",
      "accuracy cross1  0.11671167116711671\n",
      "accuracy cross2  0.11011101110111012\n",
      "accuracy cross3 0.132013201320132\n",
      " k =  9\n",
      "accuracy cross1  0.11611161116111611\n",
      "accuracy cross2  0.1152115211521152\n",
      "accuracy cross3 0.13021302130213022\n",
      " k =  10\n",
      "accuracy cross1  0.12151215121512152\n",
      "accuracy cross2  0.11641164116411641\n",
      "accuracy cross3 0.13111311131113113\n",
      " k =  11\n",
      "accuracy cross1  0.12211221122112212\n",
      "accuracy cross2  0.11761176117611762\n",
      "accuracy cross3 0.12991299129912992\n",
      " k =  12\n",
      "accuracy cross1  0.12481248124812482\n",
      "accuracy cross2  0.11641164116411641\n",
      "accuracy cross3 0.12961296129612962\n",
      " k =  13\n",
      "accuracy cross1  0.1269126912691269\n",
      "accuracy cross2  0.11941194119411941\n",
      "accuracy cross3 0.13081308130813082\n",
      " k =  14\n",
      "accuracy cross1  0.1272127212721272\n",
      "accuracy cross2  0.11791179117911792\n",
      "accuracy cross3 0.1344134413441344\n",
      " k =  15\n",
      "accuracy cross1  0.13111311131113113\n",
      "accuracy cross2  0.11641164116411641\n",
      "accuracy cross3 0.1344134413441344\n",
      " k =  16\n",
      "accuracy cross1  0.12841284128412842\n",
      "accuracy cross2  0.11611161116111611\n",
      "accuracy cross3 0.132013201320132\n",
      " k =  17\n",
      "accuracy cross1  0.12481248124812482\n",
      "accuracy cross2  0.11551155115511551\n",
      "accuracy cross3 0.132013201320132\n",
      " k =  18\n",
      "accuracy cross1  0.12451245124512451\n",
      "accuracy cross2  0.1149114911491149\n",
      "accuracy cross3 0.12931293129312932\n",
      " k =  19\n",
      "accuracy cross1  0.1257125712571257\n",
      "accuracy cross2  0.11461146114611462\n",
      "accuracy cross3 0.13081308130813082\n",
      " k =  20\n",
      "accuracy cross1  0.12901290129012902\n",
      "accuracy cross2  0.11221122112211221\n",
      "accuracy cross3 0.132013201320132\n",
      " k =  100\n",
      "accuracy cross1  0.11551155115511551\n",
      "accuracy cross2  0.11221122112211221\n",
      "accuracy cross3 0.12151215121512152\n",
      " k =  3000\n",
      "accuracy cross1  0.048004800480048\n",
      "accuracy cross2  0.045604560456045606\n",
      "accuracy cross3 0.056405640564056406\n",
      "Graph to Show Highest K\n"
     ]
    },
    {
     "data": {
      "image/png": "[encoded data removed]",
      "text/plain": [
       "<Figure size 432x288 with 1 Axes>"
      ]
     },
     "metadata": {},
     "output_type": "display_data"
    }
   ],
   "source": [
    "knnc = NN.NearestNeighbour()\n",
    "q=0\n",
    "klist = [1,2,3,4,5,6,7,8,9,10,11,12,13,14,15,16,17,18,19,20,100,3000]\n",
    "TotalAccuracies = [0]*len(klist)\n",
    "for k in klist:\n",
    "    print(\" k = \", k)\n",
    "    for i in range(3):\n",
    "        if i == 0: \n",
    "            knnc.train(trainxtr1,trainytr1)\n",
    "            ypred = knnc.predict(valxtr3, k)\n",
    "            yacc = float(np.sum(ypred==valytr3))/3333.0\n",
    "            print(\"accuracy cross1 \", yacc)\n",
    "        elif i == 1: \n",
    "            knnc.train(trainxtr2,trainytr2)\n",
    "            ypred1 = knnc.predict(valxtr1, k)\n",
    "            yacc1 = float(np.sum(ypred1==valytr1))/3333.0\n",
    "            print(\"accuracy cross2 \", yacc1)\n",
    "        else: \n",
    "            knnc.train(trainxtr3,trainytr3)\n",
    "            ypred2 = knnc.predict(valxtr2, k)\n",
    "            yacc2 = float(np.sum(ypred2==valytr2))/3333.0\n",
    "            print(\"accuracy cross3\", yacc2)\n",
    "    TotalAccuracies[q] = np.mean([yacc,yacc1,yacc2])\n",
    "    q += 1\n",
    "    \n",
    "\n",
    "klist = [1,2,3,4,5,6,7,8,9,10,11,12,13,14,15,16,17,18,19,20,100,110]\n",
    "print(\"Graph to Show Highest K\")\n",
    "plotter.plot(klist,TotalAccuracies)\n",
    "plotter.xlabel('K')\n",
    "plotter.ylabel('Acc')\n",
    "plotter.show()"
   ]
  },
  {
   "cell_type": "code",
   "execution_count": 13,
   "metadata": {},
   "outputs": [
    {
     "name": "stdout",
     "output_type": "stream",
     "text": [
      "Graph to Show Highest K\n"
     ]
    },
    {
     "data": {
      "image/png": "[encoded data removed]",
      "text/plain": [
       "<Figure size 432x288 with 1 Axes>"
      ]
     },
     "metadata": {},
     "output_type": "display_data"
    }
   ],
   "source": [
    "klist = [1,2,3,4,5,6,7,8,9,10,11,12,13,14,15,16,17,18,19,20,100,110]\n",
    "print(\"Graph to Show Highest K\")\n",
    "plotter.plot(klist,TotalAccuracies)\n",
    "plotter.xlabel('K')\n",
    "plotter.ylabel('Acc')\n",
    "plotter.show()"
   ]
  },
  {
   "cell_type": "code",
   "execution_count": 14,
   "metadata": {},
   "outputs": [],
   "source": [
    "datadict = unpickle(\"../Data/cifar-100-python/test\")"
   ]
  },
  {
   "cell_type": "code",
   "execution_count": 15,
   "metadata": {},
   "outputs": [],
   "source": [
    "xTest = datadict[b'data']\n",
    "yTest = datadict[b'coarse_labels']"
   ]
  },
  {
   "cell_type": "code",
   "execution_count": 16,
   "metadata": {},
   "outputs": [
    {
     "name": "stdout",
     "output_type": "stream",
     "text": [
      "CCRn\n",
      "Class 1 Accuracy is 64 /500  , acc =  0.128\n",
      "Class 2 Accuracy is 93 /500  , acc =  0.186\n",
      "Class 3 Accuracy is 22 /500  , acc =  0.044\n",
      "Class 4 Accuracy is 212 /500  , acc =  0.424\n",
      "Class 5 Accuracy is 100 /500  , acc =  0.2\n",
      "Class 6 Accuracy is 43 /500  , acc =  0.086\n",
      "Class 7 Accuracy is 66 /500  , acc =  0.132\n",
      "Class 8 Accuracy is 72 /500  , acc =  0.144\n",
      "Class 9 Accuracy is 8 /500  , acc =  0.016\n",
      "Class 10 Accuracy is 94 /500  , acc =  0.188\n",
      "Class 11 Accuracy is 312 /500  , acc =  0.624\n",
      "Class 12 Accuracy is 30 /500  , acc =  0.06\n",
      "Class 13 Accuracy is 17 /500  , acc =  0.034\n",
      "Class 14 Accuracy is 166 /500  , acc =  0.332\n",
      "Class 15 Accuracy is 23 /500  , acc =  0.046\n",
      "Class 16 Accuracy is 20 /500  , acc =  0.04\n",
      "Class 17 Accuracy is 41 /500  , acc =  0.082\n",
      "Class 18 Accuracy is 71 /500  , acc =  0.142\n",
      "Class 19 Accuracy is 7 /500  , acc =  0.014\n",
      "Class 20 Accuracy is 29 /500  , acc =  0.058\n",
      "ACCR 0.149\n"
     ]
    }
   ],
   "source": [
    "Bestk = 15\n",
    "count = 0\n",
    "CountPerClass = [0]*20\n",
    "knnt = NN.NearestNeighbour()\n",
    "knnt.train(xTrain,np.array(yTrain))\n",
    "ytestpred = knnt.predict(xTest,Bestk)\n",
    "\n",
    "for i in ytestpred:\n",
    "    if(ytestpred[count] == yTest[count]):\n",
    "        CountPerClass[i] += 1\n",
    "    count += 1\n",
    "print(\"CCRn\")\n",
    "for j in range(20):\n",
    "    print(\"Class\", j+1, \"Accuracy is\", CountPerClass[j], \"/500 \", \", acc = \", float(CountPerClass[j])/500)\n",
    "print(\"ACCR\" , float(np.sum(ytestpred == yTest))/float(len(yTest)))"
   ]
  },
  {
   "cell_type": "code",
   "execution_count": null,
   "metadata": {},
   "outputs": [],
   "source": []
  },
  {
   "cell_type": "code",
   "execution_count": null,
   "metadata": {},
   "outputs": [],
   "source": []
  },
  {
   "cell_type": "code",
   "execution_count": null,
   "metadata": {},
   "outputs": [],
   "source": []
  }
 ],
 "metadata": {
  "kernelspec": {
   "display_name": "Python 3",
   "language": "python",
   "name": "python3"
  },
  "language_info": {
   "codemirror_mode": {
    "name": "ipython",
    "version": 3
   },
   "file_extension": ".py",
   "mimetype": "text/x-python",
   "name": "python",
   "nbconvert_exporter": "python",
   "pygments_lexer": "ipython3",
   "version": "3.6.5"
  }
 },
 "nbformat": 4,
 "nbformat_minor": 2
}
