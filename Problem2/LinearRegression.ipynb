{
 "cells": [
  {
   "cell_type": "code",
   "execution_count": 1,
   "metadata": {},
   "outputs": [],
   "source": [
    "import numpy as np\n",
    "import matplotlib.pyplot as plotter\n",
    "import pandas as pd\n",
    "import itertools as it\n",
    "from sklearn.metrics import mean_squared_error\n",
    "from math import sqrt"
   ]
  },
  {
   "cell_type": "code",
   "execution_count": 3,
   "metadata": {},
   "outputs": [],
   "source": [
    "alldata = pd.read_excel('../Data/CCPP/Folds5x2_pp.xlsx',sheet_name=0)\n",
    "\n",
    "VData = alldata['V'].values\n",
    "TempData = alldata['AT'].values\n",
    "PressureData = alldata['AP'].values\n",
    "HumidityData = alldata['RH'].values\n",
    "PowerData = alldata['PE'].values\n",
    "\n",
    "#Leaving around the last 2000 points for testing later\n",
    "TestVData = VData[7500:]\n",
    "TestTempData = TempData[7500:]\n",
    "TestPressureData = PressureData[7500:]\n",
    "TestHumidityData = HumidityData[7500:]\n",
    "TestDataAll = [TestVData,TestTempData,TestPressureData,TestHumidityData]\n",
    "TestPowerData = PowerData[7500:]\n",
    "\n",
    "#7500 test for testing and validation and the number is also divisible by 5 for crossfold validation\n",
    "TrainVData = VData[:7500]\n",
    "TrainTempData = TempData[:7500]\n",
    "TrainPressureData = PressureData[:7500]\n",
    "TrainHumidityData = HumidityData[:7500]\n",
    "TrainDataAll = [TrainVData,TrainTempData,TrainPressureData,TrainHumidityData]\n",
    "TrainPowerData = PowerData[:7500]\n",
    "\n",
    "CrossSize = int(TrainVData.size/5)"
   ]
  },
  {
   "cell_type": "code",
   "execution_count": 4,
   "metadata": {},
   "outputs": [],
   "source": [
    "#Splitting the Training/Validation Data to be used in Crossfold Validation\n",
    "Vxdatasplit = np.split(TrainVData,[CrossSize,CrossSize*2,CrossSize*3,CrossSize*4])\n",
    "Txdatasplit = np.split(TrainTempData,[CrossSize,CrossSize*2,CrossSize*3,CrossSize*4])\n",
    "Pxdatasplit = np.split(TrainPressureData,[CrossSize,CrossSize*2,CrossSize*3,CrossSize*4])\n",
    "Hxdatasplit = np.split(TrainHumidityData,[CrossSize,CrossSize*2,CrossSize*3,CrossSize*4])\n",
    "ydatasplit = np.split(TrainPowerData,[CrossSize,CrossSize*2,CrossSize*3,CrossSize*4])"
   ]
  },
  {
   "cell_type": "code",
   "execution_count": 5,
   "metadata": {},
   "outputs": [
    {
     "name": "stdout",
     "output_type": "stream",
     "text": [
      "[[0, 1, 2, 3], [0, 1, 2, 4], [0, 1, 3, 4], [0, 2, 3, 4], [1, 2, 3, 4]]\n"
     ]
    }
   ],
   "source": [
    "#Getting different combinations to help in Crossfold validation by taking different splits\n",
    "lst = [0,1,2,3,4]\n",
    "combi = []\n",
    "\n",
    "ls = [list(x) for x in it.combinations(lst, 4)]\n",
    "combi.extend(ls)\n",
    "print(combi)"
   ]
  },
  {
   "cell_type": "code",
   "execution_count": 6,
   "metadata": {},
   "outputs": [
    {
     "data": {
      "image/png": "[encoded data removed]",
      "text/plain": [
       "<Figure size 432x288 with 1 Axes>"
      ]
     },
     "metadata": {},
     "output_type": "display_data"
    }
   ],
   "source": [
    "#Problem 2 Part A-B\n",
    "Order = list(range(20))            #Polynomial Orders, Range to be tested\n",
    "#These following arrays are use to store average values of ERMS of each 5 crossfold validations\n",
    "ERMSavVl = []\n",
    "ERMSavTr = []\n",
    "for o in Order:                  #The biggest loop of number of orders \n",
    "    ERMSTr = []\n",
    "    ERMSVl = []\n",
    "    for j in range(5):          #Loop over 5 crossfold validations\n",
    "       #--------------------------------------------------------\n",
    "        #This part is taking different combination of data everytime to satisfy crossfold\n",
    "        xDataTr = []\n",
    "        yDataTr = []\n",
    "        xDataVl = Vxdatasplit[4-j]\n",
    "        yDataVl = ydatasplit[4-j]\n",
    "        for i in combi[j]:\n",
    "            xDataTr.append(Vxdatasplit[i])\n",
    "            yDataTr.append(ydatasplit[i])\n",
    "        xDataTr = np.concatenate(xDataTr)\n",
    "        yDataTr = np.concatenate(yDataTr)\n",
    "        #--------------------------------------------------------\n",
    "        #These matrices used to satisfy the equation in order to find the weights\n",
    "        XMatrix = np.zeros(shape=(o+1,o+1))\n",
    "        YMatrix = np.zeros(shape=(o+1))       \n",
    "        for z in range(o+1):\n",
    "            for q in range (o+1):\n",
    "                XMatrix[z][q] = np.sum(xDataTr**(z+q))\n",
    "            YMatrix[z] = np.sum(yDataTr*(xDataTr**(z)))\n",
    "        WMatrix = np.matmul(np.linalg.inv(XMatrix),YMatrix)\n",
    "        \n",
    "        YPredTr = np.zeros(shape=(np.array(xDataTr).size))\n",
    "        YPredVl = np.zeros(shape=(np.array(xDataVl).size))\n",
    "        \n",
    "        #Training Data Prediction to be drawn on graph\n",
    "        for tr in range(len(xDataTr)):\n",
    "            for w in range(len(WMatrix)):\n",
    "                YPredTr[tr] += WMatrix[w]*(xDataTr[tr]**w) \n",
    "        #Validation Data prediction to be drawn on graph\n",
    "        for vl in range(len(xDataVl)):\n",
    "            for w in range(len(WMatrix)):\n",
    "                YPredVl[vl] += WMatrix[w]*(xDataVl[vl]**w) \n",
    "        #Calculations of ERMS and adding it to an array in order to find average of all 5 crossfolds\n",
    "        ERMSVl.append(np.sqrt(np.square(YPredVl - yDataVl).mean()))\n",
    "        ERMSTr.append(np.sqrt(np.square(YPredTr - yDataTr).mean()))\n",
    "        \n",
    "    ERMSavTr.append(np.mean(ERMSTr))\n",
    "    ERMSavVl.append(np.mean(ERMSVl))\n",
    "plotter.plot(Order,ERMSavTr)\n",
    "plotter.plot(Order,ERMSavVl)\n",
    "plotter.xlabel('Polynomial Order')\n",
    "plotter.ylabel('ERMSavg')\n",
    "plotter.show()"
   ]
  },
  {
   "cell_type": "code",
   "execution_count": 7,
   "metadata": {},
   "outputs": [],
   "source": [
    "###########################################################3\n",
    "# Training with 7500 Points and Testing with the rest of the data\n",
    "o=7       #Best Polynomial Degree 7th\n",
    "MatrixX = np.zeros(shape=(o+1,o+1))\n",
    "MatrixY = np.zeros(shape=(o+1))      \n",
    "for z in range(o+1):\n",
    "    for q in range (o+1):\n",
    "        MatrixX[z][q] = np.sum(TrainVData**(z+q))\n",
    "        MatrixY[z] = np.sum(TrainPowerData*(TrainVData**(z)))\n",
    "WMatrix = np.dot(np.linalg.inv(MatrixX),MatrixY)\n",
    "        \n",
    "YPredTest = np.zeros(shape=(np.array(TestVData).size))\n",
    "        \n",
    "#Training Data Prediction to be drawn on graph\n",
    "for t in range(len(TestVData)):\n",
    "     for w in range(len(WMatrix)):\n",
    "            YPredTest[t] += WMatrix[w]*(TestVData[t]**w)\n",
    "ERMS = np.sqrt(np.square(YPredTest - TestPowerData).mean())"
   ]
  },
  {
   "cell_type": "code",
   "execution_count": 8,
   "metadata": {},
   "outputs": [
    {
     "name": "stdout",
     "output_type": "stream",
     "text": [
      "[464.87406755 471.38461691 434.80240174 464.95383103 434.39686796\n",
      " 441.62504875 444.43251607 474.74063271 474.31866223 441.82131659]\n"
     ]
    }
   ],
   "source": [
    "print(YPredTest[0:10])"
   ]
  },
  {
   "cell_type": "code",
   "execution_count": 9,
   "metadata": {},
   "outputs": [
    {
     "name": "stdout",
     "output_type": "stream",
     "text": [
      "[467.46 477.27 431.93 471.86 434.78 445.19 441.04 481.58 481.23 441.07]\n"
     ]
    }
   ],
   "source": [
    "print(TestPowerData[0:10])"
   ]
  },
  {
   "cell_type": "code",
   "execution_count": 10,
   "metadata": {},
   "outputs": [
    {
     "name": "stdout",
     "output_type": "stream",
     "text": [
      "[[0], [1], [2], [3], [0, 1], [0, 2], [0, 3], [1, 2], [1, 3], [2, 3], [0, 1, 2], [0, 1, 3], [0, 2, 3], [1, 2, 3], [0, 1, 2, 3]]\n"
     ]
    }
   ],
   "source": [
    "#Getting different combinations to help in Crossfold validation by taking different splits\n",
    "lst = [0,1,2,3]\n",
    "combin = []\n",
    "\n",
    "for i in range(1,5):\n",
    "    ls = [list(x) for x in it.combinations(lst,i)]\n",
    "    combin.extend(ls)\n",
    "print(combin)"
   ]
  },
  {
   "cell_type": "code",
   "execution_count": 11,
   "metadata": {},
   "outputs": [
    {
     "name": "stdout",
     "output_type": "stream",
     "text": [
      "4.533324067583819 at 15 which is all features together\n"
     ]
    },
    {
     "data": {
      "image/png": "[encoded data removed]",
      "text/plain": [
       "<Figure size 432x288 with 1 Axes>"
      ]
     },
     "metadata": {},
     "output_type": "display_data"
    }
   ],
   "source": [
    "Fold = 5\n",
    "ERMSavVl = []\n",
    "ERMSavTr = []\n",
    "for c in combin:\n",
    "    ERMSTr = []\n",
    "    ERMSVl = []\n",
    "    for i in range(Fold):\n",
    "        start = i*CrossSize\n",
    "        end = (i+1)*CrossSize\n",
    "        if(i == Fold-1):\n",
    "            end = TrainVData.size\n",
    "        VDataTR = np.concatenate([TrainVData[0:start],TrainVData[end:TrainVData.size]])\n",
    "        TDataTR = np.concatenate([TrainTempData[0:start],TrainTempData[end:TrainTempData.size]])\n",
    "        HDataTR = np.concatenate([TrainHumidityData[0:start],TrainHumidityData[end:TrainHumidityData.size]])\n",
    "        PDataTR = np.concatenate([TrainPressureData[0:start],TrainPressureData[end:TrainPressureData.size]])\n",
    "        VDataVl = TrainVData[start:end]\n",
    "        TDataVl = TrainTempData[start:end]\n",
    "        HDataVl = TrainHumidityData[start:end]\n",
    "        PDataVl = TrainPressureData[start:end]\n",
    "        AllDataTR = [VDataTR,TDataTR,HDataTR,PDataTR]  \n",
    "        AllDataVl = [VDataVl,TDataVl,HDataVl,PDataVl]\n",
    "        # 0 : stands for Exhaust Vacuum, 1: Temperature, 2: Humidity   3: Pressure\n",
    "        MatrixXT = np.zeros(shape=(CrossSize*4,len(c)+1))\n",
    "        MatrixXV = np.zeros(shape=(CrossSize,len(c)+1))\n",
    "        #Y Matrices to be compared with answers\n",
    "        MatrixYT = np.concatenate([TrainPowerData[0:start],TrainPowerData[end:TrainPowerData.size]])\n",
    "        MatrixYV = TrainPowerData[start:end]\n",
    "        \n",
    "        for n in range(CrossSize*4):\n",
    "            for q in range(len(c)):\n",
    "                MatrixXT[n][q] = AllDataTR[c[q]][n]\n",
    "            MatrixXT[n][len(c)] = 1\n",
    "        for n in range(CrossSize):\n",
    "            for q in range(len(c)):\n",
    "                MatrixXV[n][q] = AllDataVl[c[q]][n]\n",
    "            MatrixXV[n][len(c)] = 1\n",
    "        \n",
    "        \n",
    "        PseudoInverseX = np.dot(np.linalg.inv(np.dot(np.transpose(MatrixXT),MatrixXT)),np.transpose(MatrixXT))\n",
    "        MatrixWT = np.dot(PseudoInverseX,MatrixYT)\n",
    "        \n",
    "        YPredT = np.dot(MatrixXT,np.transpose(MatrixWT))\n",
    "        YPredV = np.dot(MatrixXV,np.transpose(MatrixWT))\n",
    "         \n",
    "        #Calculations of ERMS and adding it to an array in order to find average of all 5 crossfolds\n",
    "        ERMSVl.append(np.sqrt(np.square(YPredV - MatrixYV).mean()))\n",
    "        ERMSTr.append(np.sqrt(np.square(YPredT - MatrixYT).mean()))\n",
    "    ERMSavTr.append(np.mean(ERMSTr))\n",
    "    ERMSavVl.append(np.mean(ERMSVl))\n",
    "print(ERMSavVl[np.argmin(ERMSavVl)],'at', np.argmin(ERMSavVl)+1, 'which is all features together')\n",
    "plotter.plot(range(15),ERMSavTr)\n",
    "plotter.plot(range(15),ERMSavVl)\n",
    "plotter.xlabel('Combination')\n",
    "plotter.ylabel('ERMSavg')\n",
    "plotter.show()"
   ]
  },
  {
   "cell_type": "code",
   "execution_count": 15,
   "metadata": {},
   "outputs": [
    {
     "name": "stdout",
     "output_type": "stream",
     "text": [
      "4.65035443333231\n"
     ]
    }
   ],
   "source": [
    "###########################################################3\n",
    "# Training with 7500 Points and Testing with the rest of the data\n",
    "# Best combination is all four features together\n",
    "xMatrix = np.zeros(shape=(TrainVData.size,5))\n",
    "xMatrixTest = np.zeros(shape=(TestVData.size,5))\n",
    "\n",
    "for n in range(TrainVData.size):\n",
    "    for q in range(4):\n",
    "        xMatrix[n][q] = TrainDataAll[q][n] \n",
    "    xMatrix[n][4] = 1\n",
    "\n",
    "for n in range(TestVData.size):\n",
    "    for q in range(4):\n",
    "        xMatrixTest[n][q] = TestDataAll[q][n] \n",
    "    xMatrixTest[n][4] = 1\n",
    "    \n",
    "PseudoInverseX = np.dot(np.linalg.inv(np.dot(np.transpose(xMatrix),xMatrix)),np.transpose(xMatrix))\n",
    "MatrixWT = np.dot(PseudoInverseX,TrainPowerData)\n",
    "        \n",
    "YPredTest = np.dot(xMatrixTest,np.transpose(MatrixWT))\n",
    "        \n",
    "ERMS = np.sqrt(np.square(YPredTest - TestPowerData).mean())\n",
    "print(ERMS)"
   ]
  },
  {
   "cell_type": "code",
   "execution_count": 16,
   "metadata": {},
   "outputs": [
    {
     "name": "stdout",
     "output_type": "stream",
     "text": [
      "[466.93114584 478.1750482  428.84479666 ... 432.48242769 443.1045879\n",
      " 449.74515627]\n"
     ]
    }
   ],
   "source": [
    "print(YPredTest)"
   ]
  },
  {
   "cell_type": "code",
   "execution_count": 17,
   "metadata": {},
   "outputs": [
    {
     "name": "stdout",
     "output_type": "stream",
     "text": [
      "[467.46 477.27 431.93 ... 429.57 435.74 453.28]\n"
     ]
    }
   ],
   "source": [
    "print(TestPowerData)"
   ]
  },
  {
   "cell_type": "code",
   "execution_count": null,
   "metadata": {},
   "outputs": [],
   "source": []
  }
 ],
 "metadata": {
  "kernelspec": {
   "display_name": "Python 3",
   "language": "python",
   "name": "python3"
  },
  "language_info": {
   "codemirror_mode": {
    "name": "ipython",
    "version": 3
   },
   "file_extension": ".py",
   "mimetype": "text/x-python",
   "name": "python",
   "nbconvert_exporter": "python",
   "pygments_lexer": "ipython3",
   "version": "3.6.5"
  }
 },
 "nbformat": 4,
 "nbformat_minor": 2
}
